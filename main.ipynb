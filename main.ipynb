{
 "cells": [
  {
   "cell_type": "markdown",
   "id": "6fd619a6-0b84-4912-95ba-4104c49999f1",
   "metadata": {},
   "source": [
    "# The main jupyter notebook for group three"
   ]
  },
  {
   "cell_type": "markdown",
   "id": "bb86b62f-c79a-450d-9f08-f616a2106df7",
   "metadata": {},
   "source": [
    "> each will take this file and change it according to the question"
   ]
  },
  {
   "cell_type": "markdown",
   "id": "fc452c82-b40a-4026-95b2-be278e5d830e",
   "metadata": {},
   "source": [
    "## What is done in this notebook"
   ]
  },
  {
   "cell_type": "markdown",
   "id": "cf029a15-1382-423d-8074-32cbed4fc89f",
   "metadata": {},
   "source": [
    "- Data Loading and Initial Exploration:\n",
    "    - Load the dataset into a pandas DataFrame.\n",
    "    - Display the first 5 rows and check the data types of all columns.\n",
    "    - Identify and handle any missing values.\n",
    "    - List all unique Country values in the dataset."
   ]
  },
  {
   "cell_type": "code",
   "execution_count": 102,
   "id": "1133f8d4-72af-4cd8-a200-7ca47c6e4783",
   "metadata": {},
   "outputs": [],
   "source": [
    "# Basic command\n",
    "import numpy as np\n",
    "import pandas as pd "
   ]
  },
  {
   "cell_type": "code",
   "execution_count": 103,
   "id": "a3739263-3b4c-4fe3-afd5-248f23fef8b0",
   "metadata": {},
   "outputs": [],
   "source": [
    "# Open the File as a DataFram\n",
    "df = pd.read_csv(r\"./processed_microplastics.csv\")"
   ]
  },
  {
   "cell_type": "code",
   "execution_count": 104,
   "id": "4fa3636d-a424-4e58-bfcb-92f6bad49817",
   "metadata": {},
   "outputs": [
    {
     "data": {
      "application/vnd.microsoft.datawrangler.viewer.v0+json": {
       "columns": [
        {
         "name": "index",
         "rawType": "int64",
         "type": "integer"
        },
        {
         "name": "year",
         "rawType": "int64",
         "type": "integer"
        },
        {
         "name": "country",
         "rawType": "object",
         "type": "string"
        },
        {
         "name": "cheese",
         "rawType": "float64",
         "type": "float"
        },
        {
         "name": "yoghurt",
         "rawType": "float64",
         "type": "float"
        },
        {
         "name": "total_milk",
         "rawType": "float64",
         "type": "float"
        },
        {
         "name": "fruits",
         "rawType": "float64",
         "type": "float"
        },
        {
         "name": "refined_grains",
         "rawType": "float64",
         "type": "float"
        },
        {
         "name": "whole_grains",
         "rawType": "float64",
         "type": "float"
        },
        {
         "name": "nuts_and_seeds",
         "rawType": "float64",
         "type": "float"
        },
        {
         "name": "total_processed_meats",
         "rawType": "float64",
         "type": "float"
        },
        {
         "name": "unprocessed_red_meats",
         "rawType": "float64",
         "type": "float"
        },
        {
         "name": "fish",
         "rawType": "float64",
         "type": "float"
        },
        {
         "name": "shellfish",
         "rawType": "float64",
         "type": "float"
        },
        {
         "name": "eggs",
         "rawType": "float64",
         "type": "float"
        },
        {
         "name": "total_salt",
         "rawType": "float64",
         "type": "float"
        },
        {
         "name": "added_sugars",
         "rawType": "float64",
         "type": "float"
        },
        {
         "name": "non-starchy_vegetables",
         "rawType": "float64",
         "type": "float"
        },
        {
         "name": "potatoes",
         "rawType": "float64",
         "type": "float"
        },
        {
         "name": "other_starchy_vegetables",
         "rawType": "float64",
         "type": "float"
        },
        {
         "name": "beans_and_legumes",
         "rawType": "float64",
         "type": "float"
        },
        {
         "name": "total_ug_per_kg",
         "rawType": "float64",
         "type": "float"
        }
       ],
       "ref": "f27451ac-329d-4902-955e-d028f15cd22f",
       "rows": [
        [
         "0",
         "1990",
         "Angola",
         "0.191780822",
         "54.8997394",
         "96.60273973",
         "76.52054795",
         "481.2971487",
         "44.30983762",
         "2.849315068",
         "22.77010927",
         "21.61345237",
         "53.01369863",
         "0.164383562",
         "1.04109589",
         "8.005258976",
         "32.54794521",
         "80.16438356",
         "8.109589041",
         "39.34246575",
         "19.83561644",
         "1043.279107989"
        ],
        [
         "1",
         "1990",
         "Benin",
         "0.054794521",
         "9.365946375",
         "18.4109589",
         "90.87671233",
         "534.2569649",
         "48.83632281",
         "19.56164384",
         "17.01826377",
         "14.48858555",
         "18.79452055",
         "3.97260274",
         "2.849315068",
         "5.854497115",
         "8.246575342",
         "122.9863014",
         "0.0",
         "304.9041096",
         "21.17808219",
         "1241.6561970009998"
        ],
        [
         "2",
         "1990",
         "Burkina Faso",
         "0.273972603",
         "35.39061793",
         "56.02739726",
         "19.17808219",
         "213.1701829",
         "129.4161185",
         "28.46575342",
         "9.541328705",
         "33.93812335",
         "4.684931507",
         "0.0",
         "6.767123288",
         "6.928377709",
         "9.534246575",
         "64.76712329",
         "2.219178082",
         "13.78082192",
         "32.52054795",
         "666.6039271789999"
        ],
        [
         "3",
         "1990",
         "Central African Republic",
         "0.0",
         "19.20647789",
         "48.0",
         "113.3972603",
         "285.0353746",
         "302.567776",
         "23.50684932",
         "26.41209392",
         "53.28653621",
         "13.91780822",
         "0.0",
         "1.123287671",
         "6.585070688",
         "19.69863014",
         "101.7534247",
         "0.575342466",
         "209.4520548",
         "12.82191781",
         "1237.339904735"
        ],
        [
         "4",
         "1990",
         "Cote D'Ivoire",
         "0.301369863",
         "2.220447126",
         "38.10958904",
         "37.01369863",
         "436.9075978",
         "25.22034741",
         "16.90410959",
         "2.459102583",
         "56.88336317",
         "51.42465753",
         "0.493150685",
         "2.438356164",
         "9.660914893",
         "28.43835616",
         "151.1506849",
         "1.945205479",
         "676.5753425",
         "2.356164384",
         "1540.5024579070002"
        ]
       ],
       "shape": {
        "columns": 21,
        "rows": 5
       }
      },
      "text/html": [
       "<div>\n",
       "<style scoped>\n",
       "    .dataframe tbody tr th:only-of-type {\n",
       "        vertical-align: middle;\n",
       "    }\n",
       "\n",
       "    .dataframe tbody tr th {\n",
       "        vertical-align: top;\n",
       "    }\n",
       "\n",
       "    .dataframe thead th {\n",
       "        text-align: right;\n",
       "    }\n",
       "</style>\n",
       "<table border=\"1\" class=\"dataframe\">\n",
       "  <thead>\n",
       "    <tr style=\"text-align: right;\">\n",
       "      <th></th>\n",
       "      <th>year</th>\n",
       "      <th>country</th>\n",
       "      <th>cheese</th>\n",
       "      <th>yoghurt</th>\n",
       "      <th>total_milk</th>\n",
       "      <th>fruits</th>\n",
       "      <th>refined_grains</th>\n",
       "      <th>whole_grains</th>\n",
       "      <th>nuts_and_seeds</th>\n",
       "      <th>total_processed_meats</th>\n",
       "      <th>...</th>\n",
       "      <th>fish</th>\n",
       "      <th>shellfish</th>\n",
       "      <th>eggs</th>\n",
       "      <th>total_salt</th>\n",
       "      <th>added_sugars</th>\n",
       "      <th>non-starchy_vegetables</th>\n",
       "      <th>potatoes</th>\n",
       "      <th>other_starchy_vegetables</th>\n",
       "      <th>beans_and_legumes</th>\n",
       "      <th>total_ug_per_kg</th>\n",
       "    </tr>\n",
       "  </thead>\n",
       "  <tbody>\n",
       "    <tr>\n",
       "      <th>0</th>\n",
       "      <td>1990</td>\n",
       "      <td>Angola</td>\n",
       "      <td>0.191781</td>\n",
       "      <td>54.899739</td>\n",
       "      <td>96.602740</td>\n",
       "      <td>76.520548</td>\n",
       "      <td>481.297149</td>\n",
       "      <td>44.309838</td>\n",
       "      <td>2.849315</td>\n",
       "      <td>22.770109</td>\n",
       "      <td>...</td>\n",
       "      <td>53.013699</td>\n",
       "      <td>0.164384</td>\n",
       "      <td>1.041096</td>\n",
       "      <td>8.005259</td>\n",
       "      <td>32.547945</td>\n",
       "      <td>80.164384</td>\n",
       "      <td>8.109589</td>\n",
       "      <td>39.342466</td>\n",
       "      <td>19.835616</td>\n",
       "      <td>1043.279108</td>\n",
       "    </tr>\n",
       "    <tr>\n",
       "      <th>1</th>\n",
       "      <td>1990</td>\n",
       "      <td>Benin</td>\n",
       "      <td>0.054795</td>\n",
       "      <td>9.365946</td>\n",
       "      <td>18.410959</td>\n",
       "      <td>90.876712</td>\n",
       "      <td>534.256965</td>\n",
       "      <td>48.836323</td>\n",
       "      <td>19.561644</td>\n",
       "      <td>17.018264</td>\n",
       "      <td>...</td>\n",
       "      <td>18.794521</td>\n",
       "      <td>3.972603</td>\n",
       "      <td>2.849315</td>\n",
       "      <td>5.854497</td>\n",
       "      <td>8.246575</td>\n",
       "      <td>122.986301</td>\n",
       "      <td>0.000000</td>\n",
       "      <td>304.904110</td>\n",
       "      <td>21.178082</td>\n",
       "      <td>1241.656197</td>\n",
       "    </tr>\n",
       "    <tr>\n",
       "      <th>2</th>\n",
       "      <td>1990</td>\n",
       "      <td>Burkina Faso</td>\n",
       "      <td>0.273973</td>\n",
       "      <td>35.390618</td>\n",
       "      <td>56.027397</td>\n",
       "      <td>19.178082</td>\n",
       "      <td>213.170183</td>\n",
       "      <td>129.416119</td>\n",
       "      <td>28.465753</td>\n",
       "      <td>9.541329</td>\n",
       "      <td>...</td>\n",
       "      <td>4.684932</td>\n",
       "      <td>0.000000</td>\n",
       "      <td>6.767123</td>\n",
       "      <td>6.928378</td>\n",
       "      <td>9.534247</td>\n",
       "      <td>64.767123</td>\n",
       "      <td>2.219178</td>\n",
       "      <td>13.780822</td>\n",
       "      <td>32.520548</td>\n",
       "      <td>666.603927</td>\n",
       "    </tr>\n",
       "    <tr>\n",
       "      <th>3</th>\n",
       "      <td>1990</td>\n",
       "      <td>Central African Republic</td>\n",
       "      <td>0.000000</td>\n",
       "      <td>19.206478</td>\n",
       "      <td>48.000000</td>\n",
       "      <td>113.397260</td>\n",
       "      <td>285.035375</td>\n",
       "      <td>302.567776</td>\n",
       "      <td>23.506849</td>\n",
       "      <td>26.412094</td>\n",
       "      <td>...</td>\n",
       "      <td>13.917808</td>\n",
       "      <td>0.000000</td>\n",
       "      <td>1.123288</td>\n",
       "      <td>6.585071</td>\n",
       "      <td>19.698630</td>\n",
       "      <td>101.753425</td>\n",
       "      <td>0.575342</td>\n",
       "      <td>209.452055</td>\n",
       "      <td>12.821918</td>\n",
       "      <td>1237.339905</td>\n",
       "    </tr>\n",
       "    <tr>\n",
       "      <th>4</th>\n",
       "      <td>1990</td>\n",
       "      <td>Cote D'Ivoire</td>\n",
       "      <td>0.301370</td>\n",
       "      <td>2.220447</td>\n",
       "      <td>38.109589</td>\n",
       "      <td>37.013699</td>\n",
       "      <td>436.907598</td>\n",
       "      <td>25.220347</td>\n",
       "      <td>16.904110</td>\n",
       "      <td>2.459103</td>\n",
       "      <td>...</td>\n",
       "      <td>51.424658</td>\n",
       "      <td>0.493151</td>\n",
       "      <td>2.438356</td>\n",
       "      <td>9.660915</td>\n",
       "      <td>28.438356</td>\n",
       "      <td>151.150685</td>\n",
       "      <td>1.945205</td>\n",
       "      <td>676.575343</td>\n",
       "      <td>2.356164</td>\n",
       "      <td>1540.502458</td>\n",
       "    </tr>\n",
       "  </tbody>\n",
       "</table>\n",
       "<p>5 rows × 21 columns</p>\n",
       "</div>"
      ],
      "text/plain": [
       "   year                   country    cheese    yoghurt  total_milk  \\\n",
       "0  1990                    Angola  0.191781  54.899739   96.602740   \n",
       "1  1990                     Benin  0.054795   9.365946   18.410959   \n",
       "2  1990              Burkina Faso  0.273973  35.390618   56.027397   \n",
       "3  1990  Central African Republic  0.000000  19.206478   48.000000   \n",
       "4  1990             Cote D'Ivoire  0.301370   2.220447   38.109589   \n",
       "\n",
       "       fruits  refined_grains  whole_grains  nuts_and_seeds  \\\n",
       "0   76.520548      481.297149     44.309838        2.849315   \n",
       "1   90.876712      534.256965     48.836323       19.561644   \n",
       "2   19.178082      213.170183    129.416119       28.465753   \n",
       "3  113.397260      285.035375    302.567776       23.506849   \n",
       "4   37.013699      436.907598     25.220347       16.904110   \n",
       "\n",
       "   total_processed_meats  ...       fish  shellfish      eggs  total_salt  \\\n",
       "0              22.770109  ...  53.013699   0.164384  1.041096    8.005259   \n",
       "1              17.018264  ...  18.794521   3.972603  2.849315    5.854497   \n",
       "2               9.541329  ...   4.684932   0.000000  6.767123    6.928378   \n",
       "3              26.412094  ...  13.917808   0.000000  1.123288    6.585071   \n",
       "4               2.459103  ...  51.424658   0.493151  2.438356    9.660915   \n",
       "\n",
       "   added_sugars  non-starchy_vegetables  potatoes  other_starchy_vegetables  \\\n",
       "0     32.547945               80.164384  8.109589                 39.342466   \n",
       "1      8.246575              122.986301  0.000000                304.904110   \n",
       "2      9.534247               64.767123  2.219178                 13.780822   \n",
       "3     19.698630              101.753425  0.575342                209.452055   \n",
       "4     28.438356              151.150685  1.945205                676.575343   \n",
       "\n",
       "   beans_and_legumes  total_ug_per_kg  \n",
       "0          19.835616      1043.279108  \n",
       "1          21.178082      1241.656197  \n",
       "2          32.520548       666.603927  \n",
       "3          12.821918      1237.339905  \n",
       "4           2.356164      1540.502458  \n",
       "\n",
       "[5 rows x 21 columns]"
      ]
     },
     "execution_count": 104,
     "metadata": {},
     "output_type": "execute_result"
    }
   ],
   "source": [
    "df.head(5)"
   ]
  },
  {
   "cell_type": "code",
   "execution_count": 105,
   "id": "1ffb096a-adc5-4fe1-881a-339ede50f0a5",
   "metadata": {},
   "outputs": [
    {
     "data": {
      "application/vnd.microsoft.datawrangler.viewer.v0+json": {
       "columns": [
        {
         "name": "index",
         "rawType": "object",
         "type": "string"
        },
        {
         "name": "0",
         "rawType": "object",
         "type": "unknown"
        }
       ],
       "ref": "ecbbfc80-4903-4990-a7ca-f493c429ed8d",
       "rows": [
        [
         "year",
         "int64"
        ],
        [
         "country",
         "object"
        ],
        [
         "cheese",
         "float64"
        ],
        [
         "yoghurt",
         "float64"
        ],
        [
         "total_milk",
         "float64"
        ],
        [
         "fruits",
         "float64"
        ],
        [
         "refined_grains",
         "float64"
        ],
        [
         "whole_grains",
         "float64"
        ],
        [
         "nuts_and_seeds",
         "float64"
        ],
        [
         "total_processed_meats",
         "float64"
        ],
        [
         "unprocessed_red_meats",
         "float64"
        ],
        [
         "fish",
         "float64"
        ],
        [
         "shellfish",
         "float64"
        ],
        [
         "eggs",
         "float64"
        ],
        [
         "total_salt",
         "float64"
        ],
        [
         "added_sugars",
         "float64"
        ],
        [
         "non-starchy_vegetables",
         "float64"
        ],
        [
         "potatoes",
         "float64"
        ],
        [
         "other_starchy_vegetables",
         "float64"
        ],
        [
         "beans_and_legumes",
         "float64"
        ],
        [
         "total_ug_per_kg",
         "float64"
        ]
       ],
       "shape": {
        "columns": 1,
        "rows": 21
       }
      },
      "text/plain": [
       "year                          int64\n",
       "country                      object\n",
       "cheese                      float64\n",
       "yoghurt                     float64\n",
       "total_milk                  float64\n",
       "fruits                      float64\n",
       "refined_grains              float64\n",
       "whole_grains                float64\n",
       "nuts_and_seeds              float64\n",
       "total_processed_meats       float64\n",
       "unprocessed_red_meats       float64\n",
       "fish                        float64\n",
       "shellfish                   float64\n",
       "eggs                        float64\n",
       "total_salt                  float64\n",
       "added_sugars                float64\n",
       "non-starchy_vegetables      float64\n",
       "potatoes                    float64\n",
       "other_starchy_vegetables    float64\n",
       "beans_and_legumes           float64\n",
       "total_ug_per_kg             float64\n",
       "dtype: object"
      ]
     },
     "execution_count": 105,
     "metadata": {},
     "output_type": "execute_result"
    }
   ],
   "source": [
    "# See the Columns\n",
    "df.dtypes"
   ]
  },
  {
   "cell_type": "code",
   "execution_count": 106,
   "id": "928ba7c9-1236-4e96-9bc3-a63e3f51f913",
   "metadata": {},
   "outputs": [],
   "source": [
    "# Check for any missing values - none found\n",
    "df.isnull().sum()\n",
    "\n",
    "# Drop NaN values - not necessary here because no such value was found\n",
    "df = df.dropna()"
   ]
  },
  {
   "cell_type": "code",
   "execution_count": 107,
   "id": "06378760-3d14-4058-89d9-7f0d374b316a",
   "metadata": {},
   "outputs": [
    {
     "data": {
      "text/plain": [
       "array(['Angola', 'Benin', 'Burkina Faso', 'Central African Republic',\n",
       "       \"Cote D'Ivoire\", 'Cameroon', 'Congo', 'Djibouti', 'Algeria',\n",
       "       'Egypt', 'Ethiopia', 'Gabon', 'Ghana', 'Guinea', 'The Gambia',\n",
       "       'Guinea-Bissau', 'Kenya', 'Lesotho', 'Morocco', 'Madagascar',\n",
       "       'Mali', 'Mozambique', 'Mauritania', 'Mauritius', 'Malawi',\n",
       "       'Namibia', 'Niger', 'Nigeria', 'Rwanda', 'Senegal', 'Chad', 'Togo',\n",
       "       'Tunisia', 'Tanzania', 'Uganda', 'South Africa', 'Zambia',\n",
       "       'Zimbabwe', 'Albania', 'Argentina', 'Antigua And Barbuda',\n",
       "       'Australia', 'Austria', 'Bangladesh', 'Bulgaria', 'Bolivia',\n",
       "       'Brazil', 'Barbados', 'Canada', 'Switzerland', 'China', 'Colombia',\n",
       "       'Cuba', 'Germany', 'Dominica', 'Denmark', 'Dominican Republic',\n",
       "       'Spain', 'France', 'United Kingdom', 'Greece', 'Grenada',\n",
       "       'Hungary', 'Indonesia', 'India', 'Ireland', 'Iran', 'Iraq',\n",
       "       'Iceland', 'Jordan', 'Japan', 'Cambodia', 'South Korea', 'Kuwait',\n",
       "       'Laos', 'Saint Lucia', 'Sri Lanka', 'Mexico', 'Myanmar',\n",
       "       'Mongolia', 'Malaysia', 'Netherlands', 'Norway', 'Pakistan',\n",
       "       'Peru', 'Philippines', 'Portugal', 'Paraguay', 'Romania',\n",
       "       'Saudi Arabia', 'Slovakia', 'Sweden', 'Thailand',\n",
       "       'Trinidad And Tobago', 'Turkey', 'Uruguay', 'United States',\n",
       "       'Venezuela', 'Vietnam', 'Belgium', 'Bosnia And Herzegovina',\n",
       "       'Croatia', 'Luxembourg', 'Montenegro', 'Russia', 'Serbia',\n",
       "       'Slovenia', 'Syria', 'Ukraine'], dtype=object)"
      ]
     },
     "execution_count": 107,
     "metadata": {},
     "output_type": "execute_result"
    }
   ],
   "source": [
    "# Print unique values for the column \"country\"\n",
    "df[\"country\"].unique()"
   ]
  },
  {
   "cell_type": "markdown",
   "id": "f6f8b9c1-13c7-455d-949a-c9f290416cb3",
   "metadata": {},
   "source": [
    "> delete the quesitons which you will not answer, answer each question with a sufficient amount of blocks and document as needed."
   ]
  },
  {
   "cell_type": "markdown",
   "id": "9db7b3d2-60b4-4fd3-9dc0-c96fb2f0f799",
   "metadata": {},
   "source": [
    "## Beginner Task"
   ]
  },
  {
   "cell_type": "markdown",
   "id": "2a3094bc-63db-4cf1-bf63-b6c54ad4b331",
   "metadata": {},
   "source": [
    "- Overall Trends in Microplastic Consumption:\n",
    "    - What is the average total_ug_per_kg across all countries and years in the dataset?\n",
    "    - How has the global average total_ug_per_kg changed over the years (1990-2018)? Visualize this trend."
   ]
  },
  {
   "cell_type": "code",
   "execution_count": 108,
   "id": "5b4a79ca",
   "metadata": {},
   "outputs": [
    {
     "name": "stdout",
     "output_type": "stream",
     "text": [
      "1600.6145743153152\n"
     ]
    }
   ],
   "source": [
    "# Print the golabal average total_ug_per_kg\n",
    "average = df[\"total_ug_per_kg\"].mean()\n",
    "print(average)"
   ]
  },
  {
   "cell_type": "markdown",
   "id": "fde7d917",
   "metadata": {},
   "source": [
    "1. Import of the libraries we need for visualization\n",
    "2. I looked up how to do visualization with a website that explains EDA for Python\n",
    "3. Insert the function for a line chart and label it\n",
    "4. I put a grid in the back and the dots at every \"change point\""
   ]
  },
  {
   "cell_type": "code",
   "execution_count": 109,
   "id": "a88d7e9a",
   "metadata": {},
   "outputs": [
    {
     "data": {
      "image/png": "[encoded data removed]",
      "text/plain": [
       "<Figure size 1000x600 with 1 Axes>"
      ]
     },
     "metadata": {},
     "output_type": "display_data"
    }
   ],
   "source": [
    "# Print how the global average total_ug_per_kg has changed over the years (1990-2018)\n",
    "import matplotlib.pyplot as plt\n",
    "import seaborn as sns\n",
    "%matplotlib inline\n",
    "\n",
    "yearaverage = df.groupby(\"year\")[\"total_ug_per_kg\"].mean()\n",
    "\n",
    "# Plot the line chart\n",
    "ax = yearaverage.plot(marker='o', figsize=(10, 6))\n",
    "plt.title(\"Average total µg/kg (1990-2018)\")\n",
    "plt.xlabel(\"Year\")\n",
    "plt.ylabel(\"Average total µg/kg\")\n",
    "\n",
    "\n",
    "# Add value annotations\n",
    "for x, y in zip(yearaverage.index, yearaverage.values):\n",
    "    plt.text(x, y, f'{y:.1f}', ha='center', va='bottom', fontsize=9)\n",
    "\n",
    "plt.grid(True)\n",
    "plt.tight_layout()\n",
    "plt.show()"
   ]
  },
  {
   "cell_type": "markdown",
   "id": "ad34ce39-2574-4557-86ec-6cbae7c498d6",
   "metadata": {},
   "source": [
    "- Top Food Contributors:\n",
    "    - Which 3 food categories (product columns, e.g., fish, poultry, vegetables) show the highest average microplastic consumption (μg/kg) across all countries and years?\n",
    "    - Visualize the average microplastic content for the top 10 food categories."
   ]
  },
  {
   "cell_type": "code",
   "execution_count": 110,
   "id": "52d02a84",
   "metadata": {},
   "outputs": [
    {
     "name": "stdout",
     "output_type": "stream",
     "text": [
      "refined_grains\n",
      "total_milk\n",
      "non-starchy_vegetables\n",
      "['refined_grains', 'total_milk', 'non-starchy_vegetables']\n"
     ]
    }
   ],
   "source": [
    "mean_list = []\n",
    "def sorting_by_avg(key):\n",
    "    return key[1]\n",
    "food_columns = df.columns[2:-1]\n",
    "for column in food_columns:\n",
    "    mean_list.append([column, df[column].mean()])\n",
    "mean_list.sort(key = sorting_by_avg, reverse=True)\n",
    "for category, average in mean_list[:3]:\n",
    "    print(category)\n",
    "\n",
    "top_categories = [category for category, i in mean_list[:3]]\n",
    "print(top_categories)\n"
   ]
  },
  {
   "cell_type": "markdown",
   "id": "c874fcb5-e58a-49aa-954d-6ffa9d68044e",
   "metadata": {},
   "source": [
    "- Country-Level Totals:\n",
    "    - Which 5 countries have the highest average total_ug_per_kg over the entire period (1990-2018)?\n",
    "    - Which 5 countries have the lowest average total_ug_per_kg?"
   ]
  },
  {
   "cell_type": "markdown",
   "id": "a6742bf6-9709-446e-a312-a110ceb2363d",
   "metadata": {},
   "source": [
    "- Initial Time-Series for a Food Category:\n",
    "    - Choose one of the top 3 food categories identified in question 3. How has the microplastic content in this specific food category changed over time (1990-2018) globally? Visualize this trend."
   ]
  },
  {
   "cell_type": "markdown",
   "id": "a5da87f8-94da-4a07-990d-e53e751e0b11",
   "metadata": {},
   "source": [
    "## Intermediate Task"
   ]
  },
  {
   "cell_type": "markdown",
   "id": "e67a2a25-911e-40c5-b275-d14798a5cd89",
   "metadata": {},
   "source": [
    "- Detailed Food Category Analysis:\n",
    "    - For the top 3 food categories with the highest microplastic content, analyze their individual trends over time (1990-2018). Are some increasing more rapidly than others?\n",
    "    - Compare the contribution of different food categories to the total_ug_per_kg in the earliest (1991) and latest (2018) years. Describe the shifts in contribution."
   ]
  },
  {
   "cell_type": "markdown",
   "id": "b703b57a",
   "metadata": {},
   "source": [
    "1. First I wanted to visualize how the top 3 categories evolved over time. I saw that if I take them just like that it doesn't give me the graph I'm looking for, so I realized I need to group them for each year, as for every year there's many countries. By grouping I have only one value per year and can draw the graph easily to compare.\n",
    "2. After drawing the graph, I also wanted to calculate the increasment and not just see it. That's why I used slope. I put everything in a dictionary to later sort it accordingly\n",
    "3. Then I printed a sorted list going from fastest increasement to slowest. And at the end the result = fastest incresing category."
   ]
  },
  {
   "cell_type": "code",
   "execution_count": 111,
   "id": "cc80e438",
   "metadata": {},
   "outputs": [
    {
     "data": {
      "image/png": "[encoded data removed]",
      "text/plain": [
       "<Figure size 1000x600 with 1 Axes>"
      ]
     },
     "metadata": {},
     "output_type": "display_data"
    }
   ],
   "source": [
    "#Find out the total per year of all countries together for the top 3 food categories\n",
    "total_highest = df.groupby(\"year\")[top_categories[0:3]].sum()\n",
    "\n",
    "#Plot a line chart to visualize the trends of each category\n",
    "ax = total_highest.plot(marker='o', figsize=(10, 6))\n",
    "\n",
    "plt.title(\"Microplastic content (1990-2018)\")\n",
    "plt.xlabel(\"Year\")\n",
    "plt.ylabel(\"Total µg/kg\")\n",
    "plt.grid(True)\n",
    "plt.legend()\n",
    "plt.tight_layout()\n",
    "plt.show()\n"
   ]
  },
  {
   "cell_type": "code",
   "execution_count": 112,
   "id": "4a52d12f",
   "metadata": {},
   "outputs": [
    {
     "name": "stdout",
     "output_type": "stream",
     "text": [
      "non-starchy_vegetables: 351.41 µg/kg per year\n",
      "refined_grains: 220.60 µg/kg per year\n",
      "total_milk: -17.32 µg/kg per year\n",
      "\n",
      "Fastest increase: non-starchy_vegetables (351.41 µg/kg per year)\n"
     ]
    }
   ],
   "source": [
    "#Create a new dictionary for the results\n",
    "results = {}\n",
    "\n",
    "#Use slope to calculate the increase\n",
    "for cat in top_categories[0:3]:\n",
    "    y = total_highest[cat].values\n",
    "    x = total_highest.index.values\n",
    "    slope = np.polyfit(x, y, 1)[0]\n",
    "    results[cat] = slope\n",
    "\n",
    "#Make an order from fastest to slowest increase\n",
    "sorted_results = dict(sorted(results.items(), key=lambda item: item[1], reverse=True))\n",
    "for cat, slope in sorted_results.items():\n",
    "    print(f\"{cat}: {slope:.2f} µg/kg per year\")\n",
    "\n",
    "print()\n",
    "\n",
    "#Print the category with the fastest increase\n",
    "fastest = max(results, key=results.get)\n",
    "print(f\"Fastest increase: {fastest} ({results[fastest]:.2f} µg/kg per year)\")\n"
   ]
  },
  {
   "cell_type": "code",
   "execution_count": 113,
   "id": "2018a3c3",
   "metadata": {},
   "outputs": [
    {
     "name": "stdout",
     "output_type": "stream",
     "text": [
      "                            1990    2018\n",
      "cheese                     0.38%   0.42%\n",
      "yoghurt                    3.55%   3.32%\n",
      "total_milk                17.18%  14.25%\n",
      "fruits                    12.47%  12.41%\n",
      "refined_grains            20.36%  19.03%\n",
      "whole_grains               4.89%   4.67%\n",
      "nuts_and_seeds             0.70%   0.82%\n",
      "total_processed_meats      2.65%   2.74%\n",
      "unprocessed_red_meats      5.43%   5.88%\n",
      "fish                       2.38%   2.60%\n",
      "shellfish                  0.46%   0.47%\n",
      "eggs                       0.99%   1.23%\n",
      "total_salt                 0.45%   0.41%\n",
      "added_sugars               5.03%   6.02%\n",
      "non-starchy_vegetables    12.96%  15.58%\n",
      "potatoes                   4.89%   4.97%\n",
      "other_starchy_vegetables   4.06%   3.97%\n",
      "beans_and_legumes          1.19%   1.19%\n"
     ]
    },
    {
     "name": "stderr",
     "output_type": "stream",
     "text": [
      "/var/folders/_r/www950_j1hg178nprsytyk2c0000gn/T/ipykernel_5786/2240224485.py:13: FutureWarning: DataFrame.applymap has been deprecated. Use DataFrame.map instead.\n",
      "  percentage = percentage_dec.applymap(lambda x: f\"{x:.2f}%\")\n"
     ]
    },
    {
     "data": {
      "application/vnd.microsoft.datawrangler.viewer.v0+json": {
       "columns": [
        {
         "name": "index",
         "rawType": "object",
         "type": "string"
        },
        {
         "name": "0",
         "rawType": "object",
         "type": "string"
        }
       ],
       "ref": "f00c8e15-1205-4a1f-9804-beca8f97eb52",
       "rows": [
        [
         "cheese",
         "10.46%"
        ],
        [
         "yoghurt",
         "-6.37%"
        ],
        [
         "total_milk",
         "-17.10%"
        ],
        [
         "fruits",
         "-0.43%"
        ],
        [
         "refined_grains",
         "-6.53%"
        ],
        [
         "whole_grains",
         "-4.54%"
        ],
        [
         "nuts_and_seeds",
         "17.92%"
        ],
        [
         "total_processed_meats",
         "3.72%"
        ],
        [
         "unprocessed_red_meats",
         "8.26%"
        ],
        [
         "fish",
         "9.45%"
        ],
        [
         "shellfish",
         "2.71%"
        ],
        [
         "eggs",
         "24.59%"
        ],
        [
         "total_salt",
         "-8.74%"
        ],
        [
         "added_sugars",
         "19.77%"
        ],
        [
         "non-starchy_vegetables",
         "20.24%"
        ],
        [
         "potatoes",
         "1.71%"
        ],
        [
         "other_starchy_vegetables",
         "-2.00%"
        ],
        [
         "beans_and_legumes",
         "-0.31%"
        ]
       ],
       "shape": {
        "columns": 1,
        "rows": 18
       }
      },
      "text/plain": [
       "cheese                       10.46%\n",
       "yoghurt                      -6.37%\n",
       "total_milk                  -17.10%\n",
       "fruits                       -0.43%\n",
       "refined_grains               -6.53%\n",
       "whole_grains                 -4.54%\n",
       "nuts_and_seeds               17.92%\n",
       "total_processed_meats         3.72%\n",
       "unprocessed_red_meats         8.26%\n",
       "fish                          9.45%\n",
       "shellfish                     2.71%\n",
       "eggs                         24.59%\n",
       "total_salt                   -8.74%\n",
       "added_sugars                 19.77%\n",
       "non-starchy_vegetables       20.24%\n",
       "potatoes                      1.71%\n",
       "other_starchy_vegetables     -2.00%\n",
       "beans_and_legumes            -0.31%\n",
       "dtype: object"
      ]
     },
     "execution_count": 113,
     "metadata": {},
     "output_type": "execute_result"
    }
   ],
   "source": [
    "# Compare the contribution of different food categories to the total_ug_per_kg in the earliest (1990) and latest (2018) years\n",
    "\n",
    "#Filter the food columns (first 2 columns and last column are no food)\n",
    "food_cols = df.columns[2:-1]\n",
    "\n",
    "#Add the contribution of each country together and group only for 1990 and 2018\n",
    "total_cat_year = df.groupby(\"year\")[food_cols].sum().loc[[1990, 2018]]\n",
    "total_per_year =  df.groupby(\"year\")[\"total_ug_per_kg\"].sum().loc[[1990, 2018]]\n",
    "\n",
    "#Calculate the contribution of each food to the total per year (1990, 2018) and give out in %\n",
    "\n",
    "percentage_dec = total_cat_year.div(total_per_year, axis=0) * 100\n",
    "percentage = percentage_dec.applymap(lambda x: f\"{x:.2f}%\")\n",
    "\n",
    "# Extract data for 1990 and 2018 Daten\n",
    "p_1990 = percentage.loc[1990].rename(\"1990\")\n",
    "p_2018 = percentage.loc[2018].rename(\"2018\")\n",
    "\n",
    "# Put them next to each other in comparison \n",
    "p_compare = pd.concat([p_1990, p_2018], axis=1)\n",
    "print(p_compare)\n",
    "\n",
    "# Describe the shifts in contribution / changes\n",
    "change = ((percentage_dec.loc[2018] - percentage_dec.loc[1990]) / percentage_dec.loc[1990]) * 100\n",
    "change = change.map(lambda x: f\"{x:.2f}%\")\n",
    "change\n"
   ]
  },
  {
   "cell_type": "code",
   "execution_count": null,
   "id": "dbcde50d",
   "metadata": {},
   "outputs": [],
   "source": [
    "\n",
    "\n",
    "\n",
    "\n",
    "\n"
   ]
  },
  {
   "cell_type": "markdown",
   "id": "6b0af804-6333-46f7-bd1f-8f7b72f6e940",
   "metadata": {},
   "source": [
    "- Country-Specific Microplastic Profiles:\n",
    "    - Select two countries with significantly different average total_ug_per_kg (one high, one low, from your beginner analysis).\n",
    "    - For each selected country, visualize the breakdown of total_ug_per_kg by different food categories for the year 2018. Highlight the food categories contributing most to microplastic intake in these specific countries.\n"
   ]
  },
  {
   "cell_type": "markdown",
   "id": "b3e60440-1cfe-4616-9443-6cd6274281d4",
   "metadata": {},
   "source": [
    "- Growth Rate Analysis:\n",
    "    - Calculate the percentage increase in total_ug_per_kg from 1990 to 2018 for each country. Identify the top 5 countries with the highest growth rate in microplastic consumption.\n",
    "    - Investigate which food categories are driving this growth in those top 5 countries."
   ]
  },
  {
   "cell_type": "markdown",
   "id": "606790fc-55d0-4ca4-be0c-ddc45b7e4005",
   "metadata": {},
   "source": [
    "- Correlation between Food Groups (Optional/Advanced):\n",
    "    - Is there a correlation between microplastic content in different food groups? For example, do countries with high microplastic in fish also tend to have high microplastic in seafood or processed_foods? Use correlation matrices or scatter plots to explore.\n"
   ]
  },
  {
   "cell_type": "markdown",
   "id": "275f4ae3-ad94-4709-96b5-d864b79aae74",
   "metadata": {},
   "source": [
    "### Public Health Implications & Recommendations (Qualitative):\n",
    "- Based on your findings, what are 2-3 key insights you would present to the PurePlate Initiative regarding microplastic consumption?\n",
    "- Propose potential policy recommendations or public awareness strategies that could help reduce human exposure to microplastics through diet, citing evidence from your analysis.\n",
    "\n",
    "> Remember to provide clear visualizations and concise explanations for all your findings. Your analysis will contribute directly to a vital public health discussion!\n"
   ]
  }
 ],
 "metadata": {
  "kernelspec": {
   "display_name": ".venv (3.9.6)",
   "language": "python",
   "name": "python3"
  },
  "language_info": {
   "codemirror_mode": {
    "name": "ipython",
    "version": 3
   },
   "file_extension": ".py",
   "mimetype": "text/x-python",
   "name": "python",
   "nbconvert_exporter": "python",
   "pygments_lexer": "ipython3",
   "version": "3.9.6"
  }
 },
 "nbformat": 4,
 "nbformat_minor": 5
}
