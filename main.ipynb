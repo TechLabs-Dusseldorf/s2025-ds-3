{
 "cells": [
  {
   "cell_type": "markdown",
   "id": "6fd619a6-0b84-4912-95ba-4104c49999f1",
   "metadata": {},
   "source": [
    "# The main jupyter notebook for group three"
   ]
  },
  {
   "cell_type": "markdown",
   "id": "bb86b62f-c79a-450d-9f08-f616a2106df7",
   "metadata": {},
   "source": [
    "> each will take this file and change it according to the question"
   ]
  },
  {
   "cell_type": "markdown",
   "id": "fc452c82-b40a-4026-95b2-be278e5d830e",
   "metadata": {},
   "source": [
    "## What is done in this notebook"
   ]
  },
  {
   "cell_type": "markdown",
   "id": "cf029a15-1382-423d-8074-32cbed4fc89f",
   "metadata": {},
   "source": [
    "- Data Loading and Initial Exploration:\n",
    "    - Load the dataset into a pandas DataFrame.\n",
    "    - Display the first 5 rows and check the data types of all columns.\n",
    "    - Identify and handle any missing values.\n",
    "    - List all unique Country values in the dataset."
   ]
  },
  {
   "cell_type": "code",
   "execution_count": null,
   "id": "1133f8d4-72af-4cd8-a200-7ca47c6e4783",
   "metadata": {},
   "outputs": [],
   "source": []
  },
  {
   "cell_type": "markdown",
   "id": "f6f8b9c1-13c7-455d-949a-c9f290416cb3",
   "metadata": {},
   "source": [
    "> delete the quesitons which you will not answer, answer each question with a sufficient amount of blocks and document as needed."
   ]
  },
  {
   "cell_type": "markdown",
   "id": "9db7b3d2-60b4-4fd3-9dc0-c96fb2f0f799",
   "metadata": {},
   "source": [
    "## Beginner Task"
   ]
  },
  {
   "cell_type": "markdown",
   "id": "2a3094bc-63db-4cf1-bf63-b6c54ad4b331",
   "metadata": {},
   "source": [
    "- Overall Trends in Microplastic Consumption:\n",
    "    - What is the average total_ug_per_kg across all countries and years in the dataset?\n",
    "    - How has the global average total_ug_per_kg changed over the years (1990-2018)? Visualize this trend."
   ]
  },
  {
   "cell_type": "markdown",
   "id": "ad34ce39-2574-4557-86ec-6cbae7c498d6",
   "metadata": {},
   "source": [
    "- Top Food Contributors:\n",
    "    - Which 3 food categories (product columns, e.g., fish, poultry, vegetables) show the highest average microplastic consumption (μg/kg) across all countries and years?\n",
    "    - Visualize the average microplastic content for the top 10 food categories."
   ]
  },
  {
   "cell_type": "markdown",
   "id": "c874fcb5-e58a-49aa-954d-6ffa9d68044e",
   "metadata": {},
   "source": [
    "- Country-Level Totals:\n",
    "    - Which 5 countries have the highest average total_ug_per_kg over the entire period (1990-2018)?\n",
    "    - Which 5 countries have the lowest average total_ug_per_kg?"
   ]
  },
  {
   "cell_type": "markdown",
   "id": "a6742bf6-9709-446e-a312-a110ceb2363d",
   "metadata": {},
   "source": [
    "- Initial Time-Series for a Food Category:\n",
    "    - Choose one of the top 3 food categories identified in question 3. How has the microplastic content in this specific food category changed over time (1990-2018) globally? Visualize this trend."
   ]
  },
  {
   "cell_type": "markdown",
   "id": "a5da87f8-94da-4a07-990d-e53e751e0b11",
   "metadata": {},
   "source": [
    "## Intermediate Task"
   ]
  },
  {
   "cell_type": "markdown",
   "id": "e67a2a25-911e-40c5-b275-d14798a5cd89",
   "metadata": {},
   "source": [
    "- Detailed Food Category Analysis:\n",
    "    - For the top 3 food categories with the highest microplastic content, analyze their individual trends over time (1990-2018). Are some increasing more rapidly than others?\n",
    "    - Compare the contribution of different food categories to the total_ug_per_kg in the earliest (1991) and latest (2018) years. Describe the shifts in contribution."
   ]
  },
  {
   "cell_type": "markdown",
   "id": "6b0af804-6333-46f7-bd1f-8f7b72f6e940",
   "metadata": {},
   "source": [
    "- Country-Specific Microplastic Profiles:\n",
    "    - Select two countries with significantly different average total_ug_per_kg (one high, one low, from your beginner analysis).\n",
    "    - For each selected country, visualize the breakdown of total_ug_per_kg by different food categories for the year 2018. Highlight the food categories contributing most to microplastic intake in these specific countries.\n"
   ]
  },
  {
   "cell_type": "markdown",
   "id": "b3e60440-1cfe-4616-9443-6cd6274281d4",
   "metadata": {},
   "source": [
    "- Growth Rate Analysis:\n",
    "    - Calculate the percentage increase in total_ug_per_kg from 1990 to 2018 for each country. Identify the top 5 countries with the highest growth rate in microplastic consumption.\n",
    "    - Investigate which food categories are driving this growth in those top 5 countries."
   ]
  },
  {
   "cell_type": "markdown",
   "id": "606790fc-55d0-4ca4-be0c-ddc45b7e4005",
   "metadata": {},
   "source": [
    "- Correlation between Food Groups (Optional/Advanced):\n",
    "    - Is there a correlation between microplastic content in different food groups? For example, do countries with high microplastic in fish also tend to have high microplastic in seafood or processed_foods? Use correlation matrices or scatter plots to explore.\n"
   ]
  },
  {
   "cell_type": "markdown",
   "id": "275f4ae3-ad94-4709-96b5-d864b79aae74",
   "metadata": {},
   "source": [
    "### Public Health Implications & Recommendations (Qualitative):\n",
    "- Based on your findings, what are 2-3 key insights you would present to the PurePlate Initiative regarding microplastic consumption?\n",
    "- Propose potential policy recommendations or public awareness strategies that could help reduce human exposure to microplastics through diet, citing evidence from your analysis.\n",
    "\n",
    "> Remember to provide clear visualizations and concise explanations for all your findings. Your analysis will contribute directly to a vital public health discussion!\n"
   ]
  }
 ],
 "metadata": {
  "kernelspec": {
   "display_name": "Python 3 (ipykernel)",
   "language": "python",
   "name": "python3"
  },
  "language_info": {
   "codemirror_mode": {
    "name": "ipython",
    "version": 3
   },
   "file_extension": ".py",
   "mimetype": "text/x-python",
   "name": "python",
   "nbconvert_exporter": "python",
   "pygments_lexer": "ipython3",
   "version": "3.12.3"
  }
 },
 "nbformat": 4,
 "nbformat_minor": 5
}
