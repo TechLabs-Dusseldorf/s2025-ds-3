{
 "cells": [
  {
   "cell_type": "markdown",
   "id": "6fd619a6-0b84-4912-95ba-4104c49999f1",
   "metadata": {},
   "source": [
    "# The main jupyter notebook for group three"
   ]
  },
  {
   "cell_type": "markdown",
   "id": "bb86b62f-c79a-450d-9f08-f616a2106df7",
   "metadata": {},
   "source": [
    "> each will take this file and change it according to the question"
   ]
  },
  {
   "cell_type": "markdown",
   "id": "fc452c82-b40a-4026-95b2-be278e5d830e",
   "metadata": {},
   "source": [
    "## What is done in this notebook"
   ]
  },
  {
   "cell_type": "markdown",
   "id": "cf029a15-1382-423d-8074-32cbed4fc89f",
   "metadata": {},
   "source": [
    "- Data Loading and Initial Exploration:\n",
    "    - Load the dataset into a pandas DataFrame.\n",
    "    - Display the first 5 rows and check the data types of all columns.\n",
    "    - Identify and handle any missing values.\n",
    "    - List all unique Country values in the dataset."
   ]
  },
  {
   "cell_type": "code",
<<<<<<< HEAD
   "execution_count": 2,
=======
   "execution_count": 1,
>>>>>>> a9c18529b2c1982b2223b0d4966114bbf332ccbf
   "id": "1133f8d4-72af-4cd8-a200-7ca47c6e4783",
   "metadata": {},
   "outputs": [],
   "source": [
    "# Basic command\n",
    "import numpy as np\n",
    "import pandas as pd "
   ]
  },
  {
   "cell_type": "code",
<<<<<<< HEAD
   "execution_count": 3,
=======
   "execution_count": 2,
>>>>>>> a9c18529b2c1982b2223b0d4966114bbf332ccbf
   "id": "a3739263-3b4c-4fe3-afd5-248f23fef8b0",
   "metadata": {},
   "outputs": [],
   "source": [
    "# Open the File as a DataFram\n",
    "df = pd.read_csv(r\"./processed_microplastics.csv\")"
   ]
  },
  {
   "cell_type": "code",
<<<<<<< HEAD
   "execution_count": 4,
=======
   "execution_count": 3,
>>>>>>> a9c18529b2c1982b2223b0d4966114bbf332ccbf
   "id": "4fa3636d-a424-4e58-bfcb-92f6bad49817",
   "metadata": {},
   "outputs": [
    {
     "data": {
      "application/vnd.microsoft.datawrangler.viewer.v0+json": {
       "columns": [
        {
         "name": "index",
         "rawType": "int64",
         "type": "integer"
        },
        {
         "name": "year",
         "rawType": "int64",
         "type": "integer"
        },
        {
         "name": "country",
         "rawType": "object",
         "type": "string"
        },
        {
         "name": "cheese",
         "rawType": "float64",
         "type": "float"
        },
        {
         "name": "yoghurt",
         "rawType": "float64",
         "type": "float"
        },
        {
         "name": "total_milk",
         "rawType": "float64",
         "type": "float"
        },
        {
         "name": "fruits",
         "rawType": "float64",
         "type": "float"
        },
        {
         "name": "refined_grains",
         "rawType": "float64",
         "type": "float"
        },
        {
         "name": "whole_grains",
         "rawType": "float64",
         "type": "float"
        },
        {
         "name": "nuts_and_seeds",
         "rawType": "float64",
         "type": "float"
        },
        {
         "name": "total_processed_meats",
         "rawType": "float64",
         "type": "float"
        },
        {
         "name": "unprocessed_red_meats",
         "rawType": "float64",
         "type": "float"
        },
        {
         "name": "fish",
         "rawType": "float64",
         "type": "float"
        },
        {
         "name": "shellfish",
         "rawType": "float64",
         "type": "float"
        },
        {
         "name": "eggs",
         "rawType": "float64",
         "type": "float"
        },
        {
         "name": "total_salt",
         "rawType": "float64",
         "type": "float"
        },
        {
         "name": "added_sugars",
         "rawType": "float64",
         "type": "float"
        },
        {
         "name": "non-starchy_vegetables",
         "rawType": "float64",
         "type": "float"
        },
        {
         "name": "potatoes",
         "rawType": "float64",
         "type": "float"
        },
        {
         "name": "other_starchy_vegetables",
         "rawType": "float64",
         "type": "float"
        },
        {
         "name": "beans_and_legumes",
         "rawType": "float64",
         "type": "float"
        },
        {
         "name": "total_ug_per_kg",
         "rawType": "float64",
         "type": "float"
        }
       ],
<<<<<<< HEAD
       "ref": "c742c884-aaae-476a-9977-122e4c73279c",
=======
       "ref": "421dfe3f-d4c7-4e2c-b000-39252703a20d",
>>>>>>> a9c18529b2c1982b2223b0d4966114bbf332ccbf
       "rows": [
        [
         "0",
         "1990",
         "Angola",
         "0.191780822",
         "54.8997394",
         "96.60273973",
         "76.52054795",
         "481.2971487",
         "44.30983762",
         "2.849315068",
         "22.77010927",
         "21.61345237",
         "53.01369863",
         "0.164383562",
         "1.04109589",
         "8.005258976",
         "32.54794521",
         "80.16438356",
         "8.109589041",
         "39.34246575",
         "19.83561644",
         "1043.279107989"
        ],
        [
         "1",
         "1990",
         "Benin",
         "0.054794521",
         "9.365946375",
         "18.4109589",
         "90.87671233",
         "534.2569649",
         "48.83632281",
         "19.56164384",
         "17.01826377",
         "14.48858555",
         "18.79452055",
         "3.97260274",
         "2.849315068",
         "5.854497115",
         "8.246575342",
         "122.9863014",
         "0.0",
         "304.9041096",
         "21.17808219",
         "1241.6561970009998"
        ],
        [
         "2",
         "1990",
         "Burkina Faso",
         "0.273972603",
         "35.39061793",
         "56.02739726",
         "19.17808219",
         "213.1701829",
         "129.4161185",
         "28.46575342",
         "9.541328705",
         "33.93812335",
         "4.684931507",
         "0.0",
         "6.767123288",
         "6.928377709",
         "9.534246575",
         "64.76712329",
         "2.219178082",
         "13.78082192",
         "32.52054795",
         "666.6039271789999"
        ],
        [
         "3",
         "1990",
         "Central African Republic",
         "0.0",
         "19.20647789",
         "48.0",
         "113.3972603",
         "285.0353746",
         "302.567776",
         "23.50684932",
         "26.41209392",
         "53.28653621",
         "13.91780822",
         "0.0",
         "1.123287671",
         "6.585070688",
         "19.69863014",
         "101.7534247",
         "0.575342466",
         "209.4520548",
         "12.82191781",
         "1237.339904735"
        ],
        [
         "4",
         "1990",
         "Cote D'Ivoire",
         "0.301369863",
         "2.220447126",
         "38.10958904",
         "37.01369863",
         "436.9075978",
         "25.22034741",
         "16.90410959",
         "2.459102583",
         "56.88336317",
         "51.42465753",
         "0.493150685",
         "2.438356164",
         "9.660914893",
         "28.43835616",
         "151.1506849",
         "1.945205479",
         "676.5753425",
         "2.356164384",
         "1540.5024579070002"
        ]
       ],
       "shape": {
        "columns": 21,
        "rows": 5
       }
      },
      "text/html": [
       "<div>\n",
       "<style scoped>\n",
       "    .dataframe tbody tr th:only-of-type {\n",
       "        vertical-align: middle;\n",
       "    }\n",
       "\n",
       "    .dataframe tbody tr th {\n",
       "        vertical-align: top;\n",
       "    }\n",
       "\n",
       "    .dataframe thead th {\n",
       "        text-align: right;\n",
       "    }\n",
       "</style>\n",
       "<table border=\"1\" class=\"dataframe\">\n",
       "  <thead>\n",
       "    <tr style=\"text-align: right;\">\n",
       "      <th></th>\n",
       "      <th>year</th>\n",
       "      <th>country</th>\n",
       "      <th>cheese</th>\n",
       "      <th>yoghurt</th>\n",
       "      <th>total_milk</th>\n",
       "      <th>fruits</th>\n",
       "      <th>refined_grains</th>\n",
       "      <th>whole_grains</th>\n",
       "      <th>nuts_and_seeds</th>\n",
       "      <th>total_processed_meats</th>\n",
       "      <th>...</th>\n",
       "      <th>fish</th>\n",
       "      <th>shellfish</th>\n",
       "      <th>eggs</th>\n",
       "      <th>total_salt</th>\n",
       "      <th>added_sugars</th>\n",
       "      <th>non-starchy_vegetables</th>\n",
       "      <th>potatoes</th>\n",
       "      <th>other_starchy_vegetables</th>\n",
       "      <th>beans_and_legumes</th>\n",
       "      <th>total_ug_per_kg</th>\n",
       "    </tr>\n",
       "  </thead>\n",
       "  <tbody>\n",
       "    <tr>\n",
       "      <th>0</th>\n",
       "      <td>1990</td>\n",
       "      <td>Angola</td>\n",
       "      <td>0.191781</td>\n",
       "      <td>54.899739</td>\n",
       "      <td>96.602740</td>\n",
       "      <td>76.520548</td>\n",
       "      <td>481.297149</td>\n",
       "      <td>44.309838</td>\n",
       "      <td>2.849315</td>\n",
       "      <td>22.770109</td>\n",
       "      <td>...</td>\n",
       "      <td>53.013699</td>\n",
       "      <td>0.164384</td>\n",
       "      <td>1.041096</td>\n",
       "      <td>8.005259</td>\n",
       "      <td>32.547945</td>\n",
       "      <td>80.164384</td>\n",
       "      <td>8.109589</td>\n",
       "      <td>39.342466</td>\n",
       "      <td>19.835616</td>\n",
       "      <td>1043.279108</td>\n",
       "    </tr>\n",
       "    <tr>\n",
       "      <th>1</th>\n",
       "      <td>1990</td>\n",
       "      <td>Benin</td>\n",
       "      <td>0.054795</td>\n",
       "      <td>9.365946</td>\n",
       "      <td>18.410959</td>\n",
       "      <td>90.876712</td>\n",
       "      <td>534.256965</td>\n",
       "      <td>48.836323</td>\n",
       "      <td>19.561644</td>\n",
       "      <td>17.018264</td>\n",
       "      <td>...</td>\n",
       "      <td>18.794521</td>\n",
       "      <td>3.972603</td>\n",
       "      <td>2.849315</td>\n",
       "      <td>5.854497</td>\n",
       "      <td>8.246575</td>\n",
       "      <td>122.986301</td>\n",
       "      <td>0.000000</td>\n",
       "      <td>304.904110</td>\n",
       "      <td>21.178082</td>\n",
       "      <td>1241.656197</td>\n",
       "    </tr>\n",
       "    <tr>\n",
       "      <th>2</th>\n",
       "      <td>1990</td>\n",
       "      <td>Burkina Faso</td>\n",
       "      <td>0.273973</td>\n",
       "      <td>35.390618</td>\n",
       "      <td>56.027397</td>\n",
       "      <td>19.178082</td>\n",
       "      <td>213.170183</td>\n",
       "      <td>129.416119</td>\n",
       "      <td>28.465753</td>\n",
       "      <td>9.541329</td>\n",
       "      <td>...</td>\n",
       "      <td>4.684932</td>\n",
       "      <td>0.000000</td>\n",
       "      <td>6.767123</td>\n",
       "      <td>6.928378</td>\n",
       "      <td>9.534247</td>\n",
       "      <td>64.767123</td>\n",
       "      <td>2.219178</td>\n",
       "      <td>13.780822</td>\n",
       "      <td>32.520548</td>\n",
       "      <td>666.603927</td>\n",
       "    </tr>\n",
       "    <tr>\n",
       "      <th>3</th>\n",
       "      <td>1990</td>\n",
       "      <td>Central African Republic</td>\n",
       "      <td>0.000000</td>\n",
       "      <td>19.206478</td>\n",
       "      <td>48.000000</td>\n",
       "      <td>113.397260</td>\n",
       "      <td>285.035375</td>\n",
       "      <td>302.567776</td>\n",
       "      <td>23.506849</td>\n",
       "      <td>26.412094</td>\n",
       "      <td>...</td>\n",
       "      <td>13.917808</td>\n",
       "      <td>0.000000</td>\n",
       "      <td>1.123288</td>\n",
       "      <td>6.585071</td>\n",
       "      <td>19.698630</td>\n",
       "      <td>101.753425</td>\n",
       "      <td>0.575342</td>\n",
       "      <td>209.452055</td>\n",
       "      <td>12.821918</td>\n",
       "      <td>1237.339905</td>\n",
       "    </tr>\n",
       "    <tr>\n",
       "      <th>4</th>\n",
       "      <td>1990</td>\n",
       "      <td>Cote D'Ivoire</td>\n",
       "      <td>0.301370</td>\n",
       "      <td>2.220447</td>\n",
       "      <td>38.109589</td>\n",
       "      <td>37.013699</td>\n",
       "      <td>436.907598</td>\n",
       "      <td>25.220347</td>\n",
       "      <td>16.904110</td>\n",
       "      <td>2.459103</td>\n",
       "      <td>...</td>\n",
       "      <td>51.424658</td>\n",
       "      <td>0.493151</td>\n",
       "      <td>2.438356</td>\n",
       "      <td>9.660915</td>\n",
       "      <td>28.438356</td>\n",
       "      <td>151.150685</td>\n",
       "      <td>1.945205</td>\n",
       "      <td>676.575343</td>\n",
       "      <td>2.356164</td>\n",
       "      <td>1540.502458</td>\n",
       "    </tr>\n",
       "  </tbody>\n",
       "</table>\n",
       "<p>5 rows × 21 columns</p>\n",
       "</div>"
      ],
      "text/plain": [
       "   year                   country    cheese    yoghurt  total_milk  \\\n",
       "0  1990                    Angola  0.191781  54.899739   96.602740   \n",
       "1  1990                     Benin  0.054795   9.365946   18.410959   \n",
       "2  1990              Burkina Faso  0.273973  35.390618   56.027397   \n",
       "3  1990  Central African Republic  0.000000  19.206478   48.000000   \n",
       "4  1990             Cote D'Ivoire  0.301370   2.220447   38.109589   \n",
       "\n",
       "       fruits  refined_grains  whole_grains  nuts_and_seeds  \\\n",
       "0   76.520548      481.297149     44.309838        2.849315   \n",
       "1   90.876712      534.256965     48.836323       19.561644   \n",
       "2   19.178082      213.170183    129.416119       28.465753   \n",
       "3  113.397260      285.035375    302.567776       23.506849   \n",
       "4   37.013699      436.907598     25.220347       16.904110   \n",
       "\n",
       "   total_processed_meats  ...       fish  shellfish      eggs  total_salt  \\\n",
       "0              22.770109  ...  53.013699   0.164384  1.041096    8.005259   \n",
       "1              17.018264  ...  18.794521   3.972603  2.849315    5.854497   \n",
       "2               9.541329  ...   4.684932   0.000000  6.767123    6.928378   \n",
       "3              26.412094  ...  13.917808   0.000000  1.123288    6.585071   \n",
       "4               2.459103  ...  51.424658   0.493151  2.438356    9.660915   \n",
       "\n",
       "   added_sugars  non-starchy_vegetables  potatoes  other_starchy_vegetables  \\\n",
       "0     32.547945               80.164384  8.109589                 39.342466   \n",
       "1      8.246575              122.986301  0.000000                304.904110   \n",
       "2      9.534247               64.767123  2.219178                 13.780822   \n",
       "3     19.698630              101.753425  0.575342                209.452055   \n",
       "4     28.438356              151.150685  1.945205                676.575343   \n",
       "\n",
       "   beans_and_legumes  total_ug_per_kg  \n",
       "0          19.835616      1043.279108  \n",
       "1          21.178082      1241.656197  \n",
       "2          32.520548       666.603927  \n",
       "3          12.821918      1237.339905  \n",
       "4           2.356164      1540.502458  \n",
       "\n",
       "[5 rows x 21 columns]"
      ]
     },
<<<<<<< HEAD
     "execution_count": 4,
=======
     "execution_count": 3,
>>>>>>> a9c18529b2c1982b2223b0d4966114bbf332ccbf
     "metadata": {},
     "output_type": "execute_result"
    }
   ],
   "source": [
    "df.head(5)"
   ]
  },
  {
   "cell_type": "code",
<<<<<<< HEAD
   "execution_count": 5,
=======
   "execution_count": 4,
>>>>>>> a9c18529b2c1982b2223b0d4966114bbf332ccbf
   "id": "1ffb096a-adc5-4fe1-881a-339ede50f0a5",
   "metadata": {},
   "outputs": [
    {
     "data": {
      "application/vnd.microsoft.datawrangler.viewer.v0+json": {
       "columns": [
        {
         "name": "index",
         "rawType": "object",
         "type": "string"
        },
        {
         "name": "0",
         "rawType": "object",
         "type": "unknown"
        }
       ],
<<<<<<< HEAD
       "ref": "6f6c5582-3f0c-4cb6-93e9-a9edb010cc4c",
=======
       "ref": "a36d8338-d70f-4bf5-a8f9-581276ac8cd0",
>>>>>>> a9c18529b2c1982b2223b0d4966114bbf332ccbf
       "rows": [
        [
         "year",
         "int64"
        ],
        [
         "country",
         "object"
        ],
        [
         "cheese",
         "float64"
        ],
        [
         "yoghurt",
         "float64"
        ],
        [
         "total_milk",
         "float64"
        ],
        [
         "fruits",
         "float64"
        ],
        [
         "refined_grains",
         "float64"
        ],
        [
         "whole_grains",
         "float64"
        ],
        [
         "nuts_and_seeds",
         "float64"
        ],
        [
         "total_processed_meats",
         "float64"
        ],
        [
         "unprocessed_red_meats",
         "float64"
        ],
        [
         "fish",
         "float64"
        ],
        [
         "shellfish",
         "float64"
        ],
        [
         "eggs",
         "float64"
        ],
        [
         "total_salt",
         "float64"
        ],
        [
         "added_sugars",
         "float64"
        ],
        [
         "non-starchy_vegetables",
         "float64"
        ],
        [
         "potatoes",
         "float64"
        ],
        [
         "other_starchy_vegetables",
         "float64"
        ],
        [
         "beans_and_legumes",
         "float64"
        ],
        [
         "total_ug_per_kg",
         "float64"
        ]
       ],
       "shape": {
        "columns": 1,
        "rows": 21
       }
      },
      "text/plain": [
       "year                          int64\n",
       "country                      object\n",
       "cheese                      float64\n",
       "yoghurt                     float64\n",
       "total_milk                  float64\n",
       "fruits                      float64\n",
       "refined_grains              float64\n",
       "whole_grains                float64\n",
       "nuts_and_seeds              float64\n",
       "total_processed_meats       float64\n",
       "unprocessed_red_meats       float64\n",
       "fish                        float64\n",
       "shellfish                   float64\n",
       "eggs                        float64\n",
       "total_salt                  float64\n",
       "added_sugars                float64\n",
       "non-starchy_vegetables      float64\n",
       "potatoes                    float64\n",
       "other_starchy_vegetables    float64\n",
       "beans_and_legumes           float64\n",
       "total_ug_per_kg             float64\n",
       "dtype: object"
      ]
     },
<<<<<<< HEAD
     "execution_count": 5,
=======
     "execution_count": 4,
>>>>>>> a9c18529b2c1982b2223b0d4966114bbf332ccbf
     "metadata": {},
     "output_type": "execute_result"
    }
   ],
   "source": [
    "# See the Columns\n",
    "df.dtypes"
   ]
  },
  {
   "cell_type": "code",
<<<<<<< HEAD
   "execution_count": 6,
=======
   "execution_count": 5,
>>>>>>> a9c18529b2c1982b2223b0d4966114bbf332ccbf
   "id": "928ba7c9-1236-4e96-9bc3-a63e3f51f913",
   "metadata": {},
   "outputs": [],
   "source": [
    "# Check for any missing values - none found\n",
    "df.isnull().sum()\n",
    "\n",
    "# Drop NaN values - not necessary here because no such value was found\n",
    "df = df.dropna()"
   ]
  },
  {
   "cell_type": "code",
<<<<<<< HEAD
   "execution_count": 7,
=======
   "execution_count": 6,
>>>>>>> a9c18529b2c1982b2223b0d4966114bbf332ccbf
   "id": "06378760-3d14-4058-89d9-7f0d374b316a",
   "metadata": {},
   "outputs": [
    {
     "data": {
      "text/plain": [
       "array(['Angola', 'Benin', 'Burkina Faso', 'Central African Republic',\n",
       "       \"Cote D'Ivoire\", 'Cameroon', 'Congo', 'Djibouti', 'Algeria',\n",
       "       'Egypt', 'Ethiopia', 'Gabon', 'Ghana', 'Guinea', 'The Gambia',\n",
       "       'Guinea-Bissau', 'Kenya', 'Lesotho', 'Morocco', 'Madagascar',\n",
       "       'Mali', 'Mozambique', 'Mauritania', 'Mauritius', 'Malawi',\n",
       "       'Namibia', 'Niger', 'Nigeria', 'Rwanda', 'Senegal', 'Chad', 'Togo',\n",
       "       'Tunisia', 'Tanzania', 'Uganda', 'South Africa', 'Zambia',\n",
       "       'Zimbabwe', 'Albania', 'Argentina', 'Antigua And Barbuda',\n",
       "       'Australia', 'Austria', 'Bangladesh', 'Bulgaria', 'Bolivia',\n",
       "       'Brazil', 'Barbados', 'Canada', 'Switzerland', 'China', 'Colombia',\n",
       "       'Cuba', 'Germany', 'Dominica', 'Denmark', 'Dominican Republic',\n",
       "       'Spain', 'France', 'United Kingdom', 'Greece', 'Grenada',\n",
       "       'Hungary', 'Indonesia', 'India', 'Ireland', 'Iran', 'Iraq',\n",
       "       'Iceland', 'Jordan', 'Japan', 'Cambodia', 'South Korea', 'Kuwait',\n",
       "       'Laos', 'Saint Lucia', 'Sri Lanka', 'Mexico', 'Myanmar',\n",
       "       'Mongolia', 'Malaysia', 'Netherlands', 'Norway', 'Pakistan',\n",
       "       'Peru', 'Philippines', 'Portugal', 'Paraguay', 'Romania',\n",
       "       'Saudi Arabia', 'Slovakia', 'Sweden', 'Thailand',\n",
       "       'Trinidad And Tobago', 'Turkey', 'Uruguay', 'United States',\n",
       "       'Venezuela', 'Vietnam', 'Belgium', 'Bosnia And Herzegovina',\n",
       "       'Croatia', 'Luxembourg', 'Montenegro', 'Russia', 'Serbia',\n",
       "       'Slovenia', 'Syria', 'Ukraine'], dtype=object)"
      ]
     },
<<<<<<< HEAD
     "execution_count": 7,
=======
     "execution_count": 6,
>>>>>>> a9c18529b2c1982b2223b0d4966114bbf332ccbf
     "metadata": {},
     "output_type": "execute_result"
    }
   ],
   "source": [
    "# Print unique values for the column \"country\"\n",
    "df[\"country\"].unique()"
   ]
  },
  {
   "cell_type": "markdown",
   "id": "f6f8b9c1-13c7-455d-949a-c9f290416cb3",
   "metadata": {},
   "source": [
    "> delete the quesitons which you will not answer, answer each question with a sufficient amount of blocks and document as needed."
   ]
  },
  {
   "cell_type": "markdown",
   "id": "9db7b3d2-60b4-4fd3-9dc0-c96fb2f0f799",
   "metadata": {},
   "source": [
    "## Beginner Task"
   ]
  },
  {
   "cell_type": "markdown",
   "id": "2a3094bc-63db-4cf1-bf63-b6c54ad4b331",
   "metadata": {},
   "source": [
    "- Overall Trends in Microplastic Consumption:\n",
    "    - What is the average total_ug_per_kg across all countries and years in the dataset?\n",
    "    - How has the global average total_ug_per_kg changed over the years (1990-2018)? Visualize this trend."
   ]
  },
  {
   "cell_type": "code",
<<<<<<< HEAD
   "execution_count": 8,
=======
   "execution_count": 7,
>>>>>>> a9c18529b2c1982b2223b0d4966114bbf332ccbf
   "id": "5b4a79ca",
   "metadata": {},
   "outputs": [
    {
     "name": "stdout",
     "output_type": "stream",
     "text": [
      "1600.6145743153152\n"
     ]
    }
   ],
   "source": [
    "# Print the golabal average total_ug_per_kg\n",
    "average = df[\"total_ug_per_kg\"].mean()\n",
    "print(average)"
   ]
  },
  {
   "cell_type": "markdown",
   "id": "fde7d917",
   "metadata": {},
   "source": [
    "1. Import of the libraries we need for visualization\n",
    "2. I looked up how to do visualization with a website that explains EDA for Python\n",
    "3. Insert the function for a line chart and label it\n",
    "4. I put a grid in the back and the dots at every \"change point\""
   ]
  },
  {
   "cell_type": "code",
<<<<<<< HEAD
   "execution_count": 9,
=======
   "execution_count": 8,
>>>>>>> a9c18529b2c1982b2223b0d4966114bbf332ccbf
   "id": "a88d7e9a",
   "metadata": {},
   "outputs": [
    {
     "data": {
      "image/png": "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",
      "text/plain": [
       "<Figure size 1000x600 with 1 Axes>"
      ]
     },
     "metadata": {},
     "output_type": "display_data"
    }
   ],
   "source": [
    "# Print how the global average total_ug_per_kg has changed over the years (1990-2018)\n",
    "import matplotlib.pyplot as plt\n",
    "import seaborn as sns\n",
    "%matplotlib inline\n",
    "\n",
    "yearaverage = df.groupby(\"year\")[\"total_ug_per_kg\"].mean()\n",
    "\n",
    "# Plot the line chart\n",
    "ax = yearaverage.plot(marker='o', figsize=(10, 6))\n",
    "plt.title(\"Average total µg/kg\")\n",
    "plt.xlabel(\"Year\")\n",
    "plt.ylabel(\"Average total µg/kg\")\n",
    "\n",
    "\n",
    "# Add value annotations\n",
    "for x, y in zip(yearaverage.index, yearaverage.values):\n",
    "    plt.text(x, y, f'{y:.1f}', ha='center', va='bottom', fontsize=9)\n",
    "\n",
    "plt.grid(True)\n",
    "plt.tight_layout()\n",
    "plt.show()"
   ]
  },
  {
   "cell_type": "markdown",
   "id": "ad34ce39-2574-4557-86ec-6cbae7c498d6",
   "metadata": {},
   "source": [
    "- Top Food Contributors:\n",
    "    - Which 3 food categories (product columns, e.g., fish, poultry, vegetables) show the highest average microplastic consumption (μg/kg) across all countries and years?\n",
    "    - Visualize the average microplastic content for the top 10 food categories."
   ]
  },
  {
<<<<<<< HEAD
   "cell_type": "code",
   "execution_count": null,
   "id": "52d02a84",
   "metadata": {},
   "outputs": [
    {
     "name": "stdout",
     "output_type": "stream",
     "text": [
      "refined_grains\n",
      "total_milk\n",
      "non-starchy_vegetables\n",
      "['refined_grains', 'total_milk', 'non-starchy_vegetables']\n"
     ]
    }
   ],
   "source": [
    "# 3 Food categories with highest average microplastic consumption across all countries and years\n",
    "\n",
    "avg = df.groupby(\"year\")[df.columns[2:-1]].mean()\n",
    "mean_over_years = avg.mean().sort_values(ascending=False)\n",
    "\n",
    "# Top 3 Kategorien auswählen\n",
    "top_3_categories = mean_over_years.head(3).index.tolist()\n",
    "\n",
    "# Ausgabe\n",
    "for category in top_3_categories:\n",
    "    print(category)\n",
    "\n",
    "print(top_3_categories)\n"
   ]
  },
  {
   "cell_type": "code",
   "execution_count": null,
   "id": "f9e55483",
   "metadata": {},
   "outputs": [
    {
     "name": "stdout",
     "output_type": "stream",
     "text": [
      "refined_grains\n",
      "total_milk\n",
      "non-starchy_vegetables\n",
      "fruits\n",
      "unprocessed_red_meats\n",
      "added_sugars\n",
      "potatoes\n",
      "whole_grains\n",
      "other_starchy_vegetables\n",
      "yoghurt\n",
      "['refined_grains', 'total_milk', 'non-starchy_vegetables', 'fruits', 'unprocessed_red_meats', 'added_sugars', 'potatoes', 'whole_grains', 'other_starchy_vegetables', 'yoghurt']\n"
     ]
    }
   ],
   "source": [
    "top_10_categories = mean_over_years.head(10).index.tolist()\n",
    "\n",
    "for category in top_10_categories:\n",
    "    print(category)\n",
    "\n",
    "print(top_10_categories)\n",
    "\n"
   ]
  },
  {
=======
>>>>>>> a9c18529b2c1982b2223b0d4966114bbf332ccbf
   "cell_type": "markdown",
   "id": "c874fcb5-e58a-49aa-954d-6ffa9d68044e",
   "metadata": {},
   "source": [
    "- Country-Level Totals:\n",
    "    - Which 5 countries have the highest average total_ug_per_kg over the entire period (1990-2018)?\n",
    "    - Which 5 countries have the lowest average total_ug_per_kg?"
   ]
  },
  {
   "cell_type": "markdown",
   "id": "a6742bf6-9709-446e-a312-a110ceb2363d",
   "metadata": {},
   "source": [
    "- Initial Time-Series for a Food Category:\n",
    "    - Choose one of the top 3 food categories identified in question 3. How has the microplastic content in this specific food category changed over time (1990-2018) globally? Visualize this trend."
   ]
  },
  {
   "cell_type": "markdown",
   "id": "a5da87f8-94da-4a07-990d-e53e751e0b11",
   "metadata": {},
   "source": [
    "## Intermediate Task"
   ]
  },
  {
   "cell_type": "markdown",
   "id": "e67a2a25-911e-40c5-b275-d14798a5cd89",
   "metadata": {},
   "source": [
    "- Detailed Food Category Analysis:\n",
    "    - For the top 3 food categories with the highest microplastic content, analyze their individual trends over time (1990-2018). Are some increasing more rapidly than others?\n",
    "    - Compare the contribution of different food categories to the total_ug_per_kg in the earliest (1991) and latest (2018) years. Describe the shifts in contribution."
   ]
  },
  {
   "cell_type": "markdown",
<<<<<<< HEAD
   "id": "b703b57a",
   "metadata": {},
   "source": [
    "1. First I wanted to visualize how the top 3 categories evolved over time. I saw that if I take them just like that it doesn't give me the graph I'm looking for, so I realized I need to group them for each year, as for every year there's many countries. By grouping I have only one value per year and can draw the graph easily to compare.\n",
    "2. After drawing the graph, I also wanted to calculate the increasment and not just see it. That's why I used slope. I put everything in a dictionary to later sort it accordingly\n",
    "3. Then I printed a sorted list going from fastest increasement to slowest. And at the end the result = fastest incresing category."
   ]
  },
  {
   "cell_type": "code",
   "execution_count": 12,
   "id": "cc80e438",
   "metadata": {},
   "outputs": [
    {
     "data": {
      "image/png": "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",
      "text/plain": [
       "<Figure size 1000x600 with 1 Axes>"
      ]
     },
     "metadata": {},
     "output_type": "display_data"
    }
   ],
   "source": [
    "#Find out the total per year of all countries together for the top 3 food categories\n",
    "total_highest = df.groupby(\"year\")[top_categories[0:3]].sum()\n",
    "\n",
    "#Plot a line chart to visualize the trends of each category\n",
    "ax = total_highest.plot(marker='o', figsize=(10, 6))\n",
    "\n",
    "plt.title(\"Microplastic content (1990-2018)\")\n",
    "plt.xlabel(\"Year\")\n",
    "plt.ylabel(\"Total µg/kg\")\n",
    "plt.grid(True)\n",
    "plt.legend()\n",
    "plt.tight_layout()\n",
    "plt.show()\n"
   ]
  },
  {
   "cell_type": "code",
   "execution_count": 13,
   "id": "4a52d12f",
   "metadata": {},
   "outputs": [
    {
     "name": "stdout",
     "output_type": "stream",
     "text": [
      "non-starchy_vegetables: 351.41 µg/kg per year\n",
      "refined_grains: 220.60 µg/kg per year\n",
      "total_milk: -17.32 µg/kg per year\n",
      "\n",
      "Fastest increase: non-starchy_vegetables (351.41 µg/kg per year)\n"
     ]
    }
   ],
   "source": [
    "#Create a new dictionary for the results\n",
    "results = {}\n",
    "\n",
    "#Use slope to calculate the increase\n",
    "for cat in top_categories[0:3]:\n",
    "    y = total_highest[cat].values\n",
    "    x = total_highest.index.values\n",
    "    slope = np.polyfit(x, y, 1)[0]\n",
    "    results[cat] = slope\n",
    "\n",
    "#Make an order from fastest to slowest increase\n",
    "sorted_results = dict(sorted(results.items(), key=lambda item: item[1], reverse=True))\n",
    "for cat, slope in sorted_results.items():\n",
    "    print(f\"{cat}: {slope:.2f} µg/kg per year\")\n",
    "\n",
    "print()\n",
    "\n",
    "#Print the category with the fastest increase\n",
    "fastest = max(results, key=results.get)\n",
    "print(f\"Fastest increase: {fastest} ({results[fastest]:.2f} µg/kg per year)\")\n"
   ]
  },
  {
   "cell_type": "code",
   "execution_count": 14,
   "id": "2018a3c3",
   "metadata": {},
   "outputs": [
    {
     "name": "stderr",
     "output_type": "stream",
     "text": [
      "/var/folders/_r/www950_j1hg178nprsytyk2c0000gn/T/ipykernel_1789/1628066268.py:13: FutureWarning: DataFrame.applymap has been deprecated. Use DataFrame.map instead.\n",
      "  percentage_p = percentage_dec.applymap(lambda x: f\"{x:.2f}%\")\n"
     ]
    },
    {
     "ename": "NameError",
     "evalue": "name 'percentage' is not defined",
     "output_type": "error",
     "traceback": [
      "\u001b[0;31m---------------------------------------------------------------------------\u001b[0m",
      "\u001b[0;31mNameError\u001b[0m                                 Traceback (most recent call last)",
      "Cell \u001b[0;32mIn[14], line 16\u001b[0m\n\u001b[1;32m     13\u001b[0m percentage_p \u001b[38;5;241m=\u001b[39m percentage_dec\u001b[38;5;241m.\u001b[39mapplymap(\u001b[38;5;28;01mlambda\u001b[39;00m x: \u001b[38;5;124mf\u001b[39m\u001b[38;5;124m\"\u001b[39m\u001b[38;5;132;01m{\u001b[39;00mx\u001b[38;5;132;01m:\u001b[39;00m\u001b[38;5;124m.2f\u001b[39m\u001b[38;5;132;01m}\u001b[39;00m\u001b[38;5;124m%\u001b[39m\u001b[38;5;124m\"\u001b[39m)\n\u001b[1;32m     15\u001b[0m \u001b[38;5;66;03m# Extract data for 1990 and 2018 Daten\u001b[39;00m\n\u001b[0;32m---> 16\u001b[0m p_1990 \u001b[38;5;241m=\u001b[39m \u001b[43mpercentage\u001b[49m\u001b[38;5;241m.\u001b[39mloc[\u001b[38;5;241m1990\u001b[39m]\u001b[38;5;241m.\u001b[39mrename(\u001b[38;5;124m\"\u001b[39m\u001b[38;5;124m1990\u001b[39m\u001b[38;5;124m\"\u001b[39m)\n\u001b[1;32m     17\u001b[0m p_2018 \u001b[38;5;241m=\u001b[39m percentage\u001b[38;5;241m.\u001b[39mloc[\u001b[38;5;241m2018\u001b[39m]\u001b[38;5;241m.\u001b[39mrename(\u001b[38;5;124m\"\u001b[39m\u001b[38;5;124m2018\u001b[39m\u001b[38;5;124m\"\u001b[39m)\n\u001b[1;32m     19\u001b[0m \u001b[38;5;66;03m# Put them next to each other in comparison \u001b[39;00m\n",
      "\u001b[0;31mNameError\u001b[0m: name 'percentage' is not defined"
     ]
    }
   ],
   "source": [
    "# Compare the contribution of different food categories to the total_ug_per_kg in the earliest (1990) and latest (2018) years\n",
    "\n",
    "#Filter the food columns (first 2 columns and last column are no food)\n",
    "food_cols = df.columns[2:-1]\n",
    "\n",
    "#Add the contribution of each country together and group only for 1990 and 2018\n",
    "total_cat_year = df.groupby(\"year\")[food_cols].sum().loc[[1990, 2018]]\n",
    "total_per_year =  df.groupby(\"year\")[\"total_ug_per_kg\"].sum().loc[[1990, 2018]]\n",
    "\n",
    "#Calculate the contribution of each food to the total per year (1990, 2018) and give out in %\n",
    "\n",
    "percentage_dec = total_cat_year.div(total_per_year, axis=0) * 100\n",
    "percentage_p = percentage_dec.applymap(lambda x: f\"{x:.2f}%\")\n",
    "\n",
    "# Extract data for 1990 and 2018 Daten\n",
    "p_1990 = percentage.loc[1990].rename(\"1990\")\n",
    "p_2018 = percentage.loc[2018].rename(\"2018\")\n",
    "\n",
    "# Put them next to each other in comparison \n",
    "p_compare = pd.concat([p_1990, p_2018], axis=1)\n",
    "print(p_compare)\n",
    "\n",
    "# Describe the shifts in contribution / changes\n",
    "change_dec = ((percentage_dec.loc[2018] - percentage_dec.loc[1990]) / percentage_dec.loc[1990]) * 100\n",
    "change_p = change_dec.map(lambda x: f\"{x:.2f}%\")\n",
    "\n",
    "# Sort in decreasing order \n",
    "change_dec_sorted = change_dec.sort_values(ascending=False)\n",
    "change_p_sorted = change_dec_sorted.map(lambda x: f\"{x:.2f}%\")\n",
    "change_p_sorted\n",
    "\n",
    "\n"
   ]
  },
  {
   "cell_type": "markdown",
=======
>>>>>>> a9c18529b2c1982b2223b0d4966114bbf332ccbf
   "id": "6b0af804-6333-46f7-bd1f-8f7b72f6e940",
   "metadata": {},
   "source": [
    "- Country-Specific Microplastic Profiles:\n",
    "    - Select two countries with significantly different average total_ug_per_kg (one high, one low, from your beginner analysis).\n",
    "    - For each selected country, visualize the breakdown of total_ug_per_kg by different food categories for the year 2018. Highlight the food categories contributing most to microplastic intake in these specific countries.\n"
   ]
  },
  {
   "cell_type": "markdown",
   "id": "b3e60440-1cfe-4616-9443-6cd6274281d4",
   "metadata": {},
   "source": [
    "- Growth Rate Analysis:\n",
    "    - Calculate the percentage increase in total_ug_per_kg from 1990 to 2018 for each country. Identify the top 5 countries with the highest growth rate in microplastic consumption.\n",
    "    - Investigate which food categories are driving this growth in those top 5 countries."
   ]
  },
  {
   "cell_type": "markdown",
   "id": "606790fc-55d0-4ca4-be0c-ddc45b7e4005",
   "metadata": {},
   "source": [
    "- Correlation between Food Groups (Optional/Advanced):\n",
    "    - Is there a correlation between microplastic content in different food groups? For example, do countries with high microplastic in fish also tend to have high microplastic in seafood or processed_foods? Use correlation matrices or scatter plots to explore.\n"
   ]
  },
  {
   "cell_type": "markdown",
   "id": "275f4ae3-ad94-4709-96b5-d864b79aae74",
   "metadata": {},
   "source": [
    "### Public Health Implications & Recommendations (Qualitative):\n",
    "- Based on your findings, what are 2-3 key insights you would present to the PurePlate Initiative regarding microplastic consumption?\n",
    "- Propose potential policy recommendations or public awareness strategies that could help reduce human exposure to microplastics through diet, citing evidence from your analysis.\n",
    "\n",
    "> Remember to provide clear visualizations and concise explanations for all your findings. Your analysis will contribute directly to a vital public health discussion!\n"
   ]
  }
 ],
 "metadata": {
  "kernelspec": {
   "display_name": ".venv",
   "language": "python",
   "name": "python3"
  },
  "language_info": {
   "codemirror_mode": {
    "name": "ipython",
    "version": 3
   },
   "file_extension": ".py",
   "mimetype": "text/x-python",
   "name": "python",
   "nbconvert_exporter": "python",
   "pygments_lexer": "ipython3",
   "version": "3.9.6"
  }
 },
 "nbformat": 4,
 "nbformat_minor": 5
}
